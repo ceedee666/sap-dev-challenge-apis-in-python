{
 "cells": [
  {
   "cell_type": "markdown",
   "id": "183dcffb-701e-40af-98fc-de49a09d61d4",
   "metadata": {},
   "source": [
    "# SAP Developer Challenge – APIs\n",
    "This notebook contains my solutions for the [SAP Developer Challenge – APIs](https://blogs.sap.com/2023/08/01/sap-developer-challenge-apis/)."
   ]
  },
  {
   "cell_type": "markdown",
   "id": "e54a1a74-8e97-43d9-aa52-61dfa6e733bf",
   "metadata": {},
   "source": [
    "## Task 0 - Learn to share your task results\n",
    "The task description is available [here](https://groups.community.sap.com/t5/application-development/sap-developer-challenge-apis-task-0-learn-to-share-your-task/)."
   ]
  },
  {
   "cell_type": "code",
   "execution_count": null,
   "id": "68049b7c-54a1-452c-a817-15273100664d",
   "metadata": {},
   "outputs": [],
   "source": [
    "import requests\n",
    "\n",
    "def get_hash_for_value(value, headers={\"CommunityID\" : \"ceedee666\"}):\n",
    "    url = f\"https://developer-challenge.cfapps.eu10.hana.ondemand.com/v1/hash(value='{value}')\"\n",
    "    r = requests.get(url, headers=headers)\n",
    "    return r.status_code, r.text\n",
    "\n",
    "print(get_hash_for_value(\"this-is-the-year-of-the-api\"))"
   ]
  },
  {
   "cell_type": "markdown",
   "id": "c592b67e-f2cc-4bb6-b00c-6c97d138cdb3",
   "metadata": {},
   "source": [
    "## Task 1 - List the Northwind entity sets\n",
    "The task description is available [here](https://groups.community.sap.com/t5/application-development/sap-developer-challenge-apis-task-1-list-the-northwind-entity/)."
   ]
  },
  {
   "cell_type": "code",
   "execution_count": null,
   "id": "149b7e77-301b-4bf5-a76c-b49d735633fd",
   "metadata": {},
   "outputs": [],
   "source": [
    "def northwind_entity_sets():\n",
    "    northwind_service_url = \"https://services.odata.org/V4/Northwind/Northwind.svc/\"\n",
    "    r = requests.get(northwind_service_url)\n",
    "    \n",
    "    entity_sets = [ v[\"name\"] for v in r.json()[\"value\"] if v[\"kind\"] == \"EntitySet\"]\n",
    "    \n",
    "    return sorted(entity_sets)\n",
    "\n",
    "entity_sets = northwind_entity_sets()\n",
    "print(f\"The Northwind service provides {len(entity_sets)} entity sets.\")\n",
    "\n",
    "value = \",\".join(entity_sets)\n",
    "print(\"The entity sets provided by the Northwind service are:\", value)\n",
    "print(\"The resulting hash value is:\", get_hash_for_value(value)[1])"
   ]
  }
 ],
 "metadata": {
  "kernelspec": {
   "display_name": "Python 3 (ipykernel)",
   "language": "python",
   "name": "python3"
  },
  "language_info": {
   "codemirror_mode": {
    "name": "ipython",
    "version": 3
   },
   "file_extension": ".py",
   "mimetype": "text/x-python",
   "name": "python",
   "nbconvert_exporter": "python",
   "pygments_lexer": "ipython3",
   "version": "3.11.4"
  }
 },
 "nbformat": 4,
 "nbformat_minor": 5
}
