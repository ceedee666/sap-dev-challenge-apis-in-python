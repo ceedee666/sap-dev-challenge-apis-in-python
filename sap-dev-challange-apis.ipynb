{
 "cells": [
  {
   "cell_type": "markdown",
   "id": "183dcffb-701e-40af-98fc-de49a09d61d4",
   "metadata": {},
   "source": [
    "# SAP Developer Challenge – APIs\n",
    "This notebook contains my solutions for the [SAP Developer Challenge – APIs](https://blogs.sap.com/2023/08/01/sap-developer-challenge-apis/)."
   ]
  },
  {
   "cell_type": "code",
   "execution_count": null,
   "id": "e9b4be49-2e63-4111-8dbb-9d5af49b7277",
   "metadata": {},
   "outputs": [],
   "source": [
    "!pip3 install pyjwt\n",
    "!pip3 install pyjwt[crypto]"
   ]
  },
  {
   "cell_type": "code",
   "execution_count": null,
   "id": "cf1a6abd-c252-4dba-b4be-ceed65e2bdca",
   "metadata": {},
   "outputs": [],
   "source": [
    "import requests\n",
    "import json\n",
    "import urllib.parse\n",
    "import os\n",
    "import pprint\n",
    "\n",
    "COMMUNITY_ID = \"ceedee666\"\n",
    "NW_BASE_URL = \"https://developer-challenge.cfapps.eu10.hana.ondemand.com/odata/v4/northbreeze\"\n",
    "ACCOUNTS_SERVICE_URL = \"https://accounts-service.cfapps.eu10.hana.ondemand.com\"\n",
    "ACCESS_TOKEN_URL = \"https://christiandrumm.authentication.eu10.hana.ondemand.com\" + \"/oauth/token\""
   ]
  },
  {
   "cell_type": "markdown",
   "id": "e54a1a74-8e97-43d9-aa52-61dfa6e733bf",
   "metadata": {},
   "source": [
    "## Task 0 - Learn to share your task results\n",
    "The task description is available [here](https://groups.community.sap.com/t5/application-development/sap-developer-challenge-apis-task-0-learn-to-share-your-task/m-p/276058#M2319)."
   ]
  },
  {
   "cell_type": "code",
   "execution_count": null,
   "id": "68049b7c-54a1-452c-a817-15273100664d",
   "metadata": {},
   "outputs": [],
   "source": [
    "def get_hash_for_value(value, headers={\"CommunityID\" : COMMUNITY_ID}):\n",
    "    url = f\"https://developer-challenge.cfapps.eu10.hana.ondemand.com/v1/hash(value='{value}')\"\n",
    "    r = requests.get(url, headers=headers)\n",
    "    return r.status_code, r.text\n",
    "\n",
    "print(get_hash_for_value(\"this-is-the-year-of-the-api\"))"
   ]
  },
  {
   "cell_type": "markdown",
   "id": "c592b67e-f2cc-4bb6-b00c-6c97d138cdb3",
   "metadata": {},
   "source": [
    "## Task 1 - List the Northwind entity sets\n",
    "The task description is available [here](https://groups.community.sap.com/t5/application-development/sap-developer-challenge-apis-task-1-list-the-northwind-entity/m-p/276626)."
   ]
  },
  {
   "cell_type": "code",
   "execution_count": null,
   "id": "149b7e77-301b-4bf5-a76c-b49d735633fd",
   "metadata": {},
   "outputs": [],
   "source": [
    "def northwind_entity_sets():\n",
    "    northwind_service_url = \"https://services.odata.org/V4/Northwind/Northwind.svc/\"\n",
    "    r = requests.get(northwind_service_url)\n",
    "    \n",
    "    entity_sets = [ v[\"name\"] for v in r.json()[\"value\"] if v[\"kind\"] == \"EntitySet\"]\n",
    "    \n",
    "    return sorted(entity_sets)\n",
    "\n",
    "entity_sets = northwind_entity_sets()\n",
    "print(f\"The Northwind service provides {len(entity_sets)} entity sets.\")\n",
    "\n",
    "value = \",\".join(entity_sets)\n",
    "print(\"The entity sets provided by the Northwind service are:\", value)\n",
    "print(\"The resulting hash value is:\", get_hash_for_value(value)[1])"
   ]
  },
  {
   "cell_type": "markdown",
   "id": "c5769023-d8c0-49fd-a505-857484d5075c",
   "metadata": {},
   "source": [
    "## Task 2 - Calculate Northbreeze product stock \n",
    "The detailed task description is available [here](https://groups.community.sap.com/t5/application-development/sap-developer-challenge-apis-task-2-calculate-northbreeze/m-p/277325). For this task the we need to\n",
    "- Calculate the sum of the `UnitsInStock` for all products\n",
    "- Only products that are not discontinued (ie. `Discontinued: false`) should be counted.\n",
    "\n",
    "I solved this task using three approaches:\n",
    "1. Getting all data form the service and perform the filtering and aggregation in Python 🐍\n",
    "2. Filtering the data using OData '$filter` and the aggregation in Python 🐍\n",
    "3. Using OData data for filtering and aggregation as described [here](https://github.com/qmacro/odata-v4-and-cap/blob/main/slides.md#data-aggregation)\n"
   ]
  },
  {
   "cell_type": "code",
   "execution_count": null,
   "id": "ccea306d-5cd8-4f87-9faa-d9a45860e3b3",
   "metadata": {},
   "outputs": [],
   "source": [
    "PRODCUTS_URL = NW_BASE_URL + \"/Products\"\n",
    "\n",
    "def product_stock_in_python():\n",
    "    r = requests.get(PRODCUTS_URL)\n",
    "    products = r.json()[\"value\"]\n",
    "    products_in_stock = {p[\"ProductID\"] : p[\"UnitsInStock\"] for p in products if p[\"Discontinued\"] == False}\n",
    "    return products_in_stock\n",
    "\n",
    "def product_stock_with_odata_filter():\n",
    "    r = requests.get(PRODCUTS_URL + \"?$filter=Discontinued eq false&$select=ProductID,UnitsInStock\")\n",
    "    products = r.json()[\"value\"]\n",
    "    return {p[\"ProductID\"] : p[\"UnitsInStock\"] for p in products}\n",
    "\n",
    "def product_stock_with_odata():\n",
    "    r = requests.get(PRODCUTS_URL + \"?$apply=filter(Discontinued eq false)/aggregate(UnitsInStock with sum as TotalStock)\")\n",
    "    return r.json()[\"value\"][0][\"TotalStock\"]\n",
    "\n",
    "\n",
    "\n",
    "\n",
    "print(\"Solution 1: Performating filtering and aggreation in Python:\")\n",
    "products_in_stock = product_stock_in_python()\n",
    "print(f\"The service returns {len(products_in_stock.keys())} that are not disontinued. The total stock of these products is {sum(products_in_stock.values())}\")\n",
    "\n",
    "print(\"\\nSolution 2: Performating filtering in OData and aggreation in Python:\")\n",
    "products_in_stock = product_stock_with_odata_filter()\n",
    "print(f\"The service returns {len(products_in_stock.keys())} that are not disontinued. The total stock of these products is {sum(products_in_stock.values())}\")\n",
    "\n",
    "print(\"\\nSolution 3: Performating filtering and aggregation in OData:\")\n",
    "total_stock = product_stock_with_odata()\n",
    "print(f\"The total stock of these products is {total_stock}\")\n",
    "\n",
    "\n",
    "print(\"\\nThe resulting hash value is:\", get_hash_for_value(total_stock)[1])"
   ]
  },
  {
   "cell_type": "markdown",
   "id": "a146cd7d-9057-499c-ad67-176899de4223",
   "metadata": {},
   "source": [
    "## Task 3 - Have a Northbreeze product selected for you \n",
    "The detailed task description is available [here](https://groups.community.sap.com/t5/application-development/sap-developer-challenge-apis-task-3-have-a-northbreeze-product/td-p/277972). For this task the we need to use the `selectProduct` action to let the service select a product based on our community id."
   ]
  },
  {
   "cell_type": "code",
   "execution_count": null,
   "id": "c180cefc-dda1-4eac-99e0-5d2f40b8939e",
   "metadata": {},
   "outputs": [],
   "source": [
    "SELECT_PRODUCT_URL = NW_BASE_URL + \"/selectProduct\"\n",
    "\n",
    "def call_select_product():\n",
    "    payload = {\"communityid\" : COMMUNITY_ID}\n",
    "    r = requests.post(SELECT_PRODUCT_URL, json=payload)\n",
    "    return r.json()[\"value\"]\n",
    "\n",
    "selected_product = call_select_product()\n",
    "print(f\"The Northbreeze service selected the product {selected_product} for my community ID\")\n",
    "\n",
    "encoded_product = urllib.parse.quote_plus(selected_product)\n",
    "print(f\"The URL-encoded product is: {encoded_product}\")\n",
    "\n",
    "print(\"\\nThe resulting hash value is:\", get_hash_for_value(encoded_product)[1])\n",
    "    "
   ]
  },
  {
   "cell_type": "markdown",
   "id": "8d727ebb-9ef7-4dd1-84b8-04a5df290db6",
   "metadata": {},
   "source": [
    "## Task 4 - Discover the Date and Time API Package \n",
    "The detailed task description is available [here](https://groups.community.sap.com/t5/application-development/sap-developer-challenge-apis-task-4-discover-the-date-and-time/m-p/278745#M2897). For this task the we need to find all API endpoints that\n",
    "- are accessible with the HTTP GET method\n",
    "- return a response in JSON format."
   ]
  },
  {
   "cell_type": "code",
   "execution_count": null,
   "id": "e014efa9-c8ad-4436-b47d-a22293f27def",
   "metadata": {},
   "outputs": [],
   "source": [
    "with open(\"DateAndTime.json\") as f:\n",
    "    api_spec = json.load(f)\n",
    "\n",
    "paths = api_spec[\"paths\"]\n",
    "\n",
    "endpoints = sorted(\n",
    "    filter(lambda p: paths[p][\"get\"][\"produces\"][0] == \"application/json\", \n",
    "           filter(lambda p: \"get\" in paths[p], paths)))\n",
    "\n",
    "print(f\"The API contains {len(endpoints)} endpoints\")\n",
    "\n",
    "string_for_hashing = \":\".join(endpoints)\n",
    "print(f\"The string for hashing is: {string_for_hashing}\")\n",
    "\n",
    "print(\"\\nThe resulting hash value is:\", get_hash_for_value(string_for_hashing)[1])"
   ]
  },
  {
   "cell_type": "markdown",
   "id": "31e8c464-6d31-46a2-a0ce-b6a2c81ddb24",
   "metadata": {},
   "source": [
    "## Task 5 - Call the country date format API endpoint \n",
    "The detailed task description is available [here](https://groups.community.sap.com/t5/application-development/sap-developer-challenge-apis-task-5-call-the-country-date-format/td-p/279160). For this task the we need to call the `getCountryDateFormat` endpoint of the date and time API. \n",
    "Additionally, we need to find a custom header that starts wit `x-` and is related to a SAP programming language. \n",
    "\n",
    "ABAP is not dead! ✌️\n",
    "\n",
    "The service uses an API key for authentication. The following code expects that the API key is stored in an environment variable named `APIKEY`. "
   ]
  },
  {
   "cell_type": "code",
   "execution_count": null,
   "id": "ee9becb5-3494-46ee-88c1-dcc57a999653",
   "metadata": {},
   "outputs": [],
   "source": [
    "if \"APIKEY\" not in os.environ:\n",
    "    print(\"Please set the environmet variable APIKEY to your API key from the API hub\")\n",
    "\n",
    "def call_get_country_date_format(country=\"DE\"):\n",
    "    URL = f\"https://sandbox.api.sap.com/dateandtime/getCountryDateFormat?country={country}\"\n",
    "    r = requests.get(URL, headers={\"APIKey\":os.environ[\"APIKEY\"]})\n",
    "    hidden_headers = list(filter(lambda h: \"abap\" in h, r.headers))\n",
    "    \n",
    "    return r.text, hidden_headers[0]\n",
    "\n",
    "format, header = call_get_country_date_format()\n",
    "\n",
    "print(\"The endpoint returns the following format for the country DE: \", format)\n",
    "print(\"The hidden header is: \", header)\n",
    "\n",
    "print(\"\\nThe resulting hash value is:\", get_hash_for_value(format + \",\" + header)[1])"
   ]
  },
  {
   "cell_type": "markdown",
   "id": "130605f8-1b80-438b-be15-54dd04cfb9e6",
   "metadata": {},
   "source": [
    "## Task 6 - Create a new Northbreeze category\n",
    "The detailed task description is available [here](https://groups.community.sap.com/t5/application-development/sap-developer-challenge-apis-task-6-create-a-new-northbreeze/m-p/279812#M3145). For this task a new category needs to be created in the northbreeze service."
   ]
  },
  {
   "cell_type": "code",
   "execution_count": null,
   "id": "a4ac86df-dae4-476e-a061-74994f9dd13e",
   "metadata": {},
   "outputs": [],
   "source": [
    "COMMUNITY_ID_NUM = 10851\n",
    "CATEGORIES_URL = NW_BASE_URL + \"/Categories\"\n",
    "\n",
    "def create_category(category_id = COMMUNITY_ID_NUM, category_name = COMMUNITY_ID, description = \"August Developer Challenge\"):\n",
    "    category = {\"CategoryID\": category_id, \"CategoryName\": category_name, \"Description\": description }\n",
    "    r = requests.post(CATEGORIES_URL, json=category)\n",
    "\n",
    "def read_category(category_id = COMMUNITY_ID_NUM):\n",
    "    r = requests.get(f\"{CATEGORIES_URL}/{category_id}?$select=CategoryID,CategoryName\")\n",
    "    return r.status_code, r.text\n",
    "\n",
    "create_category()\n",
    "status_code, response = read_category()\n",
    "\n",
    "print(f\"The response returned by reading the category ig {COMMUNITY_ID_NUM} is: {response}\")\n",
    "\n",
    "encoded_response = urllib.parse.quote_plus(response)\n",
    "print(f\"\\nThe URL-encoded response is: {encoded_response}\")\n",
    "\n",
    "print(\"\\nThe resulting hash value is:\", get_hash_for_value(encoded_response)[1])"
   ]
  },
  {
   "cell_type": "markdown",
   "id": "819e36e3-d434-41c1-aac5-01fd3fc67754",
   "metadata": {},
   "source": [
    "## Task 7 - Create a new directory in an SAP BTP account \n",
    "\n",
    "The detailed task description is available [here](https://groups.community.sap.com/t5/application-development/sap-developer-challenge-apis-task-7-create-a-new-directory-in-an/m-p/280341). \n",
    "\n",
    "For this task I used the [SAP BTP Command Line Interface (btp CLI)](https://tools.hana.ondemand.com/#cloud).\n"
   ]
  },
  {
   "cell_type": "code",
   "execution_count": null,
   "id": "2e5f74df-b7c5-4864-84fd-476eed389c40",
   "metadata": {},
   "outputs": [],
   "source": [
    "dir_id = \"626141be-0712-4d0c-b9b2-521d8a27a651\"\n",
    "\n",
    "print(\"\\nThe resulting hash value is:\", get_hash_for_value(len(dir_id))[1])"
   ]
  },
  {
   "cell_type": "markdown",
   "id": "5825a494-dbc6-489f-b9bf-08a9f3e3c6f8",
   "metadata": {},
   "source": [
    "## Task 8 - Create an instance of the SAP Cloud Management Service\n",
    "The detailed task description is available [here](https://groups.community.sap.com/t5/application-development/sap-developer-challenge-apis-task-8-create-an-instance-of-the/td-p/280681).\n",
    "\n",
    "I used the BTP and CF CLIs to solve this task. The most difficult part was to login to my account (my email is related to two global accounts). Once I used `cf login --sso` it worked. "
   ]
  },
  {
   "cell_type": "code",
   "execution_count": null,
   "id": "94d63080-2df5-401e-81aa-8a8a6cf231b2",
   "metadata": {},
   "outputs": [],
   "source": [
    "type = \"managed_service_instance\"\n",
    "\n",
    "print(\"\\nThe resulting hash value is:\", get_hash_for_value(type)[1])"
   ]
  },
  {
   "cell_type": "markdown",
   "id": "4b2e29c2-dbd4-4113-8d16-46795d8a58b8",
   "metadata": {},
   "source": [
    "## Task 9 - Create a service key for API endpoints and auth info\n",
    "The detailed task description is available [here](https://groups.community.sap.com/t5/application-development/sap-developer-challenge-task-9-create-a-service-key-for-api/m-p/281337). \n",
    "\n",
    "I used the CF CLI to create the service key. The name of my cis service instance is *my-cis*. The name of the created service key is *my-cis-sk*. The necessary commands to create and read the service key are \n",
    "```zsh\n",
    "# create a service key\n",
    "cf create-service-key my-cis my-cis-sk \n",
    "\n",
    "# read all service keys of service my-cis\n",
    "cf service-keys my-cis  \n",
    "\n",
    "# get details of service key my-cis-sk of service my-cis\n",
    "cf service-key my-cis my-cis-sk \n",
    "```"
   ]
  },
  {
   "cell_type": "code",
   "execution_count": null,
   "id": "350e622d-0a49-45dd-80ec-9d77256a3b06",
   "metadata": {},
   "outputs": [],
   "source": [
    "endpoints = { \"accounts_service_url\": \"https://accounts-service.cfapps.eu10.hana.ondemand.com\",\n",
    "      \"cloud_automation_url\": \"https://cp-formations.cfapps.eu10.hana.ondemand.com\",\n",
    "      \"entitlements_service_url\": \"https://entitlements-service.cfapps.eu10.hana.ondemand.com\",\n",
    "      \"events_service_url\": \"https://events-service.cfapps.eu10.hana.ondemand.com\",\n",
    "      \"external_provider_registry_url\": \"https://external-provider-registry.cfapps.eu10.hana.ondemand.com\",\n",
    "      \"metadata_service_url\": \"https://metadata-service.cfapps.eu10.hana.ondemand.com\",\n",
    "      \"order_processing_url\": \"https://order-processing.cfapps.eu10.hana.ondemand.com\",\n",
    "      \"provisioning_service_url\": \"https://provisioning-service.cfapps.eu10.hana.ondemand.com\",\n",
    "      \"saas_registry_service_url\": \"https://saas-manager.cfapps.eu10.hana.ondemand.com\" }\n",
    "\n",
    "string_for_hashing = \",\".join(sorted(endpoints.keys()))\n",
    "print(\"\\nThe resulting hash value is:\", get_hash_for_value(string_for_hashing)[1])"
   ]
  },
  {
   "cell_type": "markdown",
   "id": "97e27b26-4392-478b-8583-44c0a89c582c",
   "metadata": {},
   "source": [
    "## Task 10 - Request an OAuth access token \n",
    "The detailed task description is available [here](https://groups.community.sap.com/t5/application-development/sap-developer-challenge-apis-task-10-request-an-oauth-access/m-p/281933#M3586)."
   ]
  },
  {
   "cell_type": "code",
   "execution_count": null,
   "id": "5d897dae-7a8e-4b47-9d16-f8b9dd6be6e8",
   "metadata": {},
   "outputs": [],
   "source": [
    "def get_access_token(clientid, clientsecret, username, password):\n",
    "    r = requests.post(ACCESS_TOKEN_URL, \n",
    "                      headers={\"Content-Type\": \"application/x-www-form-urlencoded\"},\n",
    "                      auth=(clientid, clientsecret),\n",
    "                      data={\"grant_type\": \"password\", \"username\": username, \"password\": password}\n",
    "                      )\n",
    "    return r.status_code, r.json()\n",
    "    \n",
    "\n",
    "if any([e not in os.environ for e in [\"CLIENTID\", \"CLIENTSECRET\", \"BTPUSER\", \"BTPPASSWD\"]]):\n",
    "    print(\"Please set the environmet variables CLIENTID and CLIENTSECRET to the values provided by the service key. Set BTPUSER and BTPPASSWD to your user and password.\")\n",
    "else:\n",
    "    status_code, result = get_access_token(os.environ[\"CLIENTID\"], \n",
    "                                           os.environ[\"CLIENTSECRET\"],\n",
    "                                           os.environ[\"BTPUSER\"], \n",
    "                                           os.environ[\"BTPPASSWD\"])\n",
    "    \n",
    "    if status_code == 200:\n",
    "        token_expires_in_s = result['expires_in']\n",
    "        token_expires_in_h = round(token_expires_in_s / 3600)\n",
    "        \n",
    "        print(f\"The access token expires in {token_expires_in_s} second. That are about {token_expires_in_h} hours.\")\n",
    "    \n",
    "        print(\"The resulting hash value is:\", get_hash_for_value(token_expires_in_h)[1])"
   ]
  },
  {
   "cell_type": "markdown",
   "id": "27511d60-94b7-4161-9818-abb7da7fabf1",
   "metadata": {},
   "source": [
    "## Task 11 - Examine the access token for scopes contained \n",
    "The detailed task description is available [here](https://groups.community.sap.com/t5/application-development/sap-developer-challenge-apis-task-11-examine-the-access-token/m-p/282366).\n",
    "\n",
    "Failed to decode the token in Python using [PyJWT](https://pyjwt.readthedocs.io/en/stable/). Simply used sed the following command to decode the token: \n",
    "\n",
    "```\n",
    "jq -r .access_token tokendata.json | jwt --output=json\n",
    "```\n"
   ]
  },
  {
   "cell_type": "code",
   "execution_count": null,
   "id": "08a8808e-d197-4e19-a8a4-eda6bbd4bbbd",
   "metadata": {},
   "outputs": [],
   "source": [
    "print(\"The resulting hash value is:\", get_hash_for_value(\"RS256:JWT:23\")[1])"
   ]
  },
  {
   "cell_type": "code",
   "execution_count": null,
   "id": "884145bf-306f-4ec7-9a35-d66142286d34",
   "metadata": {},
   "outputs": [],
   "source": [
    "import jwt\n",
    "\n",
    "def decode_jwt_token(token):\n",
    "    header = jwt.get_unverified_header(token)\n",
    "    \n",
    "    keys_json = requests.get(header[\"jku\"]).json()\n",
    "    public_key = keys_json[\"keys\"][0][\"value\"]\n",
    "    payload = jwt.decode(token, public_key, header[\"alg\"], options={\"verify_aud\": False})\n",
    "    return header, payload\n",
    "\n",
    "token = result[\"access_token\"]\n",
    "header, payload = decode_jwt_token(token)\n",
    "\n",
    "pp = pprint.PrettyPrinter()\n",
    "\n",
    "print(\"JWT Token Header:\")\n",
    "pp.pprint(header)\n",
    "print(\"JWT Token Payload:\")\n",
    "pp.pprint(payload)\n",
    "\n",
    "print(\"The resulting hash value is:\", get_hash_for_value(f\"{header['alg'] }:{header['typ']}:{len(payload['scope'])}\")[1])"
   ]
  },
  {
   "cell_type": "markdown",
   "id": "e3c88886-ad22-495e-bdd0-3e73bba185c5",
   "metadata": {},
   "source": [
    "## Task 12 - Use the access token to call the API endpoint \n",
    "The detailed task description is available [here](https://groups.community.sap.com/t5/application-development-discussions/sap-developer-challenge-apis-task-12-use-the-access-token-to-call-the-api/td-p/283202)."
   ]
  },
  {
   "cell_type": "code",
   "execution_count": null,
   "id": "2b912aa8-5207-438e-ba12-8a35dcfea20a",
   "metadata": {},
   "outputs": [],
   "source": [
    "import time\n",
    "from datetime import datetime\n",
    "\n",
    "def refresh_access_token(clientid, clientsecret, refresh_token):\n",
    "    r = requests.post(ACCESS_TOKEN_URL, \n",
    "                      headers={\"Content-Type\": \"application/x-www-form-urlencoded\"},\n",
    "                      auth=(clientid, clientsecret),\n",
    "                      data={\"grant_type\": \"refresh_token\", \"refresh_token\": refresh_token}\n",
    "                      )\n",
    "    return r.status_code, r.json()\n",
    "\n",
    "\n",
    "def get_and_refresh_token():\n",
    "    status_code, result = get_access_token(os.environ[\"CLIENTID\"], \n",
    "                                           os.environ[\"CLIENTSECRET\"],\n",
    "                                           os.environ[\"BTPUSER\"], \n",
    "                                           os.environ[\"BTPPASSWD\"])\n",
    "    token = result[\"access_token\"]\n",
    "    _, payload = decode_jwt_token(token)\n",
    "    \n",
    "    print(\"Expiration date of the access token:\", datetime.fromtimestamp(payload[\"exp\"]).strftime(\"%c\"))\n",
    "    \n",
    "    print(\"waiting 10s....\")\n",
    "    time.sleep(10)\n",
    "    \n",
    "    print(\"Refreshing token....\")\n",
    "    status_code, result = refresh_access_token(os.environ[\"CLIENTID\"], \n",
    "                                               os.environ[\"CLIENTSECRET\"],\n",
    "                                               result[\"refresh_token\"])\n",
    "    token = result[\"access_token\"]\n",
    "    _, payload = decode_jwt_token(token)\n",
    "    print(\"Expiration date of the refreshed access token:\", datetime.fromtimestamp(payload[\"exp\"]).strftime(\"%c\"))\n",
    "\n",
    "    return token\n",
    "\n",
    "def call_btp_apis(access_token):\n",
    "    r = requests.get(ACCOUNTS_SERVICE_URL + \"/accounts/v1/globalAccount?expand=true\", \n",
    "                     headers={\"authorization\": f\"bearer {access_token}\"})\n",
    "\n",
    "    dir_guid = r.json()[\"children\"][0][\"guid\"]\n",
    "   \n",
    "    r = requests.get(ACCOUNTS_SERVICE_URL + f\"/accounts/v1/directories/{dir_guid}\", \n",
    "                     headers={\"authorization\": f\"bearer {access_token}\"})\n",
    "    dir_data = r.json()\n",
    "    return dir_data[\"displayName\"], dir_data[\"directoryType\"]\n",
    "\n",
    "token = get_and_refresh_token()\n",
    "dir_name, dir_type = call_btp_apis(token)\n",
    "\n",
    "print(\"The resulting hash value is:\", get_hash_for_value(f\"{dir_name}:{dir_type}\")[1])\n",
    "    "
   ]
  }
 ],
 "metadata": {
  "kernelspec": {
   "display_name": "Python 3 (ipykernel)",
   "language": "python",
   "name": "python3"
  },
  "language_info": {
   "codemirror_mode": {
    "name": "ipython",
    "version": 3
   },
   "file_extension": ".py",
   "mimetype": "text/x-python",
   "name": "python",
   "nbconvert_exporter": "python",
   "pygments_lexer": "ipython3",
   "version": "3.11.5"
  }
 },
 "nbformat": 4,
 "nbformat_minor": 5
}
