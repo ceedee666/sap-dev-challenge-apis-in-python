{
 "cells": [
  {
   "cell_type": "markdown",
   "id": "183dcffb-701e-40af-98fc-de49a09d61d4",
   "metadata": {},
   "source": [
    "# SAP Developer Challenge – APIs\n",
    "This notebook contains my solutions for the [SAP Developer Challenge – APIs](https://blogs.sap.com/2023/08/01/sap-developer-challenge-apis/)."
   ]
  },
  {
   "cell_type": "code",
   "execution_count": null,
   "id": "cf1a6abd-c252-4dba-b4be-ceed65e2bdca",
   "metadata": {},
   "outputs": [],
   "source": [
    "import requests\n",
    "\n",
    "COMMUNITY_ID = \"ceedee666\"\n",
    "NW_BASE_URL = \"https://developer-challenge.cfapps.eu10.hana.ondemand.com/odata/v4/northbreeze\""
   ]
  },
  {
   "cell_type": "markdown",
   "id": "e54a1a74-8e97-43d9-aa52-61dfa6e733bf",
   "metadata": {},
   "source": [
    "## Task 0 - Learn to share your task results\n",
    "The task description is available [here](https://groups.community.sap.com/t5/application-development/sap-developer-challenge-apis-task-0-learn-to-share-your-task/)."
   ]
  },
  {
   "cell_type": "code",
   "execution_count": null,
   "id": "68049b7c-54a1-452c-a817-15273100664d",
   "metadata": {},
   "outputs": [],
   "source": [
    "def get_hash_for_value(value, headers={\"CommunityID\" : COMMUNITY_ID}):\n",
    "    url = f\"https://developer-challenge.cfapps.eu10.hana.ondemand.com/v1/hash(value='{value}')\"\n",
    "    r = requests.get(url, headers=headers)\n",
    "    return r.status_code, r.text\n",
    "\n",
    "print(get_hash_for_value(\"this-is-the-year-of-the-api\"))"
   ]
  },
  {
   "cell_type": "markdown",
   "id": "c592b67e-f2cc-4bb6-b00c-6c97d138cdb3",
   "metadata": {},
   "source": [
    "## Task 1 - List the Northwind entity sets\n",
    "The task description is available [here](https://groups.community.sap.com/t5/application-development/sap-developer-challenge-apis-task-1-list-the-northwind-entity/)."
   ]
  },
  {
   "cell_type": "code",
   "execution_count": null,
   "id": "149b7e77-301b-4bf5-a76c-b49d735633fd",
   "metadata": {},
   "outputs": [],
   "source": [
    "def northwind_entity_sets():\n",
    "    northwind_service_url = \"https://services.odata.org/V4/Northwind/Northwind.svc/\"\n",
    "    r = requests.get(northwind_service_url)\n",
    "    \n",
    "    entity_sets = [ v[\"name\"] for v in r.json()[\"value\"] if v[\"kind\"] == \"EntitySet\"]\n",
    "    \n",
    "    return sorted(entity_sets)\n",
    "\n",
    "entity_sets = northwind_entity_sets()\n",
    "print(f\"The Northwind service provides {len(entity_sets)} entity sets.\")\n",
    "\n",
    "value = \",\".join(entity_sets)\n",
    "print(\"The entity sets provided by the Northwind service are:\", value)\n",
    "print(\"The resulting hash value is:\", get_hash_for_value(value)[1])"
   ]
  },
  {
   "cell_type": "markdown",
   "id": "c5769023-d8c0-49fd-a505-857484d5075c",
   "metadata": {},
   "source": [
    "## Task 2 - Calculate Northbreeze product stock \n",
    "The detailed task description is available [here](https://groups.community.sap.com/t5/application-development/sap-developer-challenge-apis-task-2-calculate-northbreeze/). For this task the we need to\n",
    "- Calculate the sum of the `UnitsInStock` for all products\n",
    "- Only products that are not discontinued (ie. `Discontinued: false`) should be counted.\n",
    "\n",
    "I solved this task using three approaches:\n",
    "1. Getting all data form the service and perform the filtering and aggregation in Python 🐍\n",
    "2. Filtering the data using OData '$filter` and the aggregation in Python 🐍\n",
    "3. Using OData data for filtering and aggregation as described [here](https://github.com/qmacro/odata-v4-and-cap/blob/main/slides.md#data-aggregation)\n"
   ]
  },
  {
   "cell_type": "code",
   "execution_count": null,
   "id": "ccea306d-5cd8-4f87-9faa-d9a45860e3b3",
   "metadata": {},
   "outputs": [],
   "source": [
    "PRODCUTS_URL = NW_BASE_URL + \"/Products\"\n",
    "\n",
    "def product_stock_in_python():\n",
    "    r = requests.get(PRODCUTS_URL)\n",
    "    products = r.json()[\"value\"]\n",
    "    products_in_stock = {p[\"ProductID\"] : p[\"UnitsInStock\"] for p in products if p[\"Discontinued\"] == False}\n",
    "    return products_in_stock\n",
    "\n",
    "def product_stock_with_odata_filter():\n",
    "    r = requests.get(PRODCUTS_URL + \"?$filter=Discontinued eq false&$select=ProductID,UnitsInStock\")\n",
    "    products = r.json()[\"value\"]\n",
    "    return {p[\"ProductID\"] : p[\"UnitsInStock\"] for p in products}\n",
    "\n",
    "def product_stock_with_odata():\n",
    "    r = requests.get(PRODCUTS_URL + \"?$apply=filter(Discontinued eq false)/aggregate(UnitsInStock with sum as TotalStock)\")\n",
    "    return r.json()[\"value\"][0][\"TotalStock\"]\n",
    "\n",
    "\n",
    "\n",
    "\n",
    "print(\"Solution 1: Performating filtering and aggreation in Python:\")\n",
    "products_in_stock = product_stock_in_python()\n",
    "print(f\"The service returns {len(products_in_stock.keys())} that are not disontinued. The total stock of these products is {sum(products_in_stock.values())}\")\n",
    "\n",
    "print(\"\\nSolution 2: Performating filtering in OData and aggreation in Python:\")\n",
    "products_in_stock = product_stock_with_odata_filter()\n",
    "print(f\"The service returns {len(products_in_stock.keys())} that are not disontinued. The total stock of these products is {sum(products_in_stock.values())}\")\n",
    "\n",
    "print(\"\\nSolution 3: Performating filtering and aggregation in OData:\")\n",
    "total_stock = product_stock_with_odata()\n",
    "print(f\"The total stock of these products is {total_stock}\")\n",
    "\n",
    "\n",
    "print(\"\\nThe resulting hash value is:\", get_hash_for_value(total_stock)[1])"
   ]
  },
  {
   "cell_type": "markdown",
   "id": "a146cd7d-9057-499c-ad67-176899de4223",
   "metadata": {},
   "source": [
    "## Task 3 - Have a Northbreeze product selected for you \n",
    "The detailed task description is available [here](https://groups.community.sap.com/t5/application-development/sap-developer-challenge-apis-task-3-have-a-northbreeze-product/td-p/277972). For this task the we need to use the `selectProduct` action to let the service select a product based on our community id."
   ]
  },
  {
   "cell_type": "code",
   "execution_count": 13,
   "id": "c180cefc-dda1-4eac-99e0-5d2f40b8939e",
   "metadata": {},
   "outputs": [
    {
     "name": "stdout",
     "output_type": "stream",
     "text": [
      "The Northbreeze service selected the product Röd Kaviar for my community ID\n",
      "The URL-encoded product is: R%C3%B6d+Kaviar\n",
      "\n",
      "The resulting hash value is: 802f380c0012c393c38e60b6f3a2cd67717b441eb7bb8d27f2d5de2bfebbb9e8\n"
     ]
    }
   ],
   "source": [
    "import urllib.parse\n",
    "SELECT_PRODCUT_URL = NW_BASE_URL + \"/selectProduct\"\n",
    "\n",
    "def call_select_product():\n",
    "    payload = {\"communityid\" : COMMUNITY_ID}\n",
    "    r = requests.post(SELECT_PRODCUT_URL, json=payload)\n",
    "    return r.json()[\"value\"]\n",
    "\n",
    "selected_product = call_select_product()\n",
    "print(f\"The Northbreeze service selected the product {selected_product} for my community ID\")\n",
    "\n",
    "encoded_product = urllib.parse.quote_plus(selected_product)\n",
    "print(f\"The URL-encoded product is: {encoded_product}\")\n",
    "\n",
    "print(\"\\nThe resulting hash value is:\", get_hash_for_value(encoded_product)[1])\n",
    "    "
   ]
  },
  {
   "cell_type": "code",
   "execution_count": null,
   "id": "9c2f302d-527c-4e27-a6d8-9d5a6f94a4f2",
   "metadata": {},
   "outputs": [],
   "source": []
  }
 ],
 "metadata": {
  "kernelspec": {
   "display_name": "Python 3 (ipykernel)",
   "language": "python",
   "name": "python3"
  },
  "language_info": {
   "codemirror_mode": {
    "name": "ipython",
    "version": 3
   },
   "file_extension": ".py",
   "mimetype": "text/x-python",
   "name": "python",
   "nbconvert_exporter": "python",
   "pygments_lexer": "ipython3",
   "version": "3.11.4"
  }
 },
 "nbformat": 4,
 "nbformat_minor": 5
}
